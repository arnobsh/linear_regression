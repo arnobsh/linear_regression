{
 "cells": [
  {
   "cell_type": "code",
   "execution_count": 37,
   "metadata": {},
   "outputs": [],
   "source": [
    "# Add import statements\n",
    "import pandas as pd\n",
    "from sklearn.linear_model import LinearRegression"
   ]
  },
  {
   "cell_type": "code",
   "execution_count": 38,
   "metadata": {},
   "outputs": [
    {
     "name": "stdout",
     "output_type": "stream",
     "text": [
      "1.0\n",
      "[1. 3.]\n",
      "[21.]\n"
     ]
    }
   ],
   "source": [
    "# Example linear regression\n",
    "import numpy as np\n",
    "X = np.array([[1, 1], [1, 2], [2, 2], [2, 3]])\n",
    "# y = 1 * x_0 + 2 * x_1 + 3\n",
    "y = np.dot(X, np.array([1, 3])) + 3\n",
    "example_model = LinearRegression()\n",
    "example_model.fit(X, y)\n",
    "# Find the score\n",
    "score = example_model.score(X, y)\n",
    "print(score)\n",
    "# Find the coef\n",
    "coef = example_model.coef_\n",
    "print(coef) # coefficeient of the Y equation\n",
    "# find the prediction\n",
    "predict = example_model.predict(np.array([[3, 5]]))\n",
    "print(predict)"
   ]
  },
  {
   "cell_type": "code",
   "execution_count": 39,
   "metadata": {},
   "outputs": [
    {
     "data": {
      "image/png": "[encoded data removed]",
      "text/plain": [
       "<Figure size 432x288 with 1 Axes>"
      ]
     },
     "metadata": {
      "needs_background": "light"
     },
     "output_type": "display_data"
    }
   ],
   "source": [
    "# plot the results\n",
    "import matplotlib.pyplot as plt\n",
    "\n",
    "plt.figure()\n",
    "X_min = X.min()\n",
    "X_max = X.max()\n",
    "Y_TEST = np.array([[1, 4], [2, 1], [6, 2], [3, 3]])\n",
    "W = 10\n",
    "b = 0.4\n",
    "plt.scatter(X, Y_TEST, color='red')\n",
    "plt.plot([X_min, X_max], [X_min * W + b, X_max * W + b], color='black')\n",
    "plt.show()"
   ]
  },
  {
   "cell_type": "code",
   "execution_count": 40,
   "metadata": {},
   "outputs": [],
   "source": [
    "# Assign the dataframe to this variable.\n",
    "bmi_life_data = pd.read_csv(\"../resources/bmi_and_life_expectancy.csv\")"
   ]
  },
  {
   "cell_type": "code",
   "execution_count": 41,
   "metadata": {},
   "outputs": [
    {
     "name": "stdout",
     "output_type": "stream",
     "text": [
      "          BMI\n",
      "0    20.62058\n",
      "1    26.44657\n",
      "2    24.59620\n",
      "3    27.63048\n",
      "4    22.25083\n",
      "5    25.35542\n",
      "6    27.56373\n",
      "7    26.46741\n",
      "8    25.65117\n",
      "9    27.24594\n",
      "10   20.39742\n",
      "11   26.38439\n",
      "12   26.16443\n",
      "13   26.75915\n",
      "14   27.02255\n",
      "15   22.41835\n",
      "16   22.82180\n",
      "17   24.43335\n",
      "18   26.61163\n",
      "19   22.12984\n",
      "20   25.78623\n",
      "21   26.54286\n",
      "22   21.27157\n",
      "23   21.50291\n",
      "24   20.80496\n",
      "25   23.68173\n",
      "26   27.45210\n",
      "27   23.51522\n",
      "28   21.48569\n",
      "29   27.01542\n",
      "..        ...\n",
      "133  27.49975\n",
      "134  21.96671\n",
      "135  22.40484\n",
      "136  25.49887\n",
      "137  23.16969\n",
      "138  26.37629\n",
      "139  26.20195\n",
      "140  26.91969\n",
      "141  23.77966\n",
      "142  22.47792\n",
      "143  23.00803\n",
      "144  20.59082\n",
      "145  21.87875\n",
      "146  30.99563\n",
      "147  26.39669\n",
      "148  25.15699\n",
      "149  26.70371\n",
      "150  25.24796\n",
      "151  22.35833\n",
      "152  25.42379\n",
      "153  28.05359\n",
      "154  27.39249\n",
      "155  28.45698\n",
      "156  26.39123\n",
      "157  25.32054\n",
      "158  26.78926\n",
      "159  26.57750\n",
      "160  20.91630\n",
      "161  20.68321\n",
      "162  22.02660\n",
      "\n",
      "[163 rows x 1 columns]\n",
      "     Life expectancy\n",
      "0               52.8\n",
      "1               76.8\n",
      "2               75.5\n",
      "3               84.6\n",
      "4               56.7\n",
      "5               72.3\n",
      "6               81.6\n",
      "7               80.4\n",
      "8               69.2\n",
      "9               72.2\n",
      "10              68.3\n",
      "11              75.3\n",
      "12              70.0\n",
      "13              79.6\n",
      "14              70.7\n",
      "15              59.7\n",
      "16              70.7\n",
      "17              71.2\n",
      "18              77.5\n",
      "19              53.2\n",
      "20              73.2\n",
      "21              73.2\n",
      "22              58.0\n",
      "23              59.1\n",
      "24              66.1\n",
      "25              56.6\n",
      "26              80.8\n",
      "27              70.4\n",
      "28              54.3\n",
      "29              78.5\n",
      "..               ...\n",
      "133             81.1\n",
      "134             74.0\n",
      "135             65.5\n",
      "136             70.2\n",
      "137             45.1\n",
      "138             81.1\n",
      "139             82.0\n",
      "140             76.1\n",
      "141             69.6\n",
      "142             60.4\n",
      "143             73.9\n",
      "144             69.9\n",
      "145             57.5\n",
      "146             70.3\n",
      "147             71.7\n",
      "148             76.8\n",
      "149             77.8\n",
      "150             67.2\n",
      "151             56.0\n",
      "152             67.8\n",
      "153             75.6\n",
      "154             79.7\n",
      "155             78.3\n",
      "156             76.0\n",
      "157             69.6\n",
      "158             63.4\n",
      "159             74.1\n",
      "160             74.1\n",
      "161             51.1\n",
      "162             47.3\n",
      "\n",
      "[163 rows x 1 columns]\n"
     ]
    }
   ],
   "source": [
    "# print the test data\n",
    "print(bmi_life_data[['BMI']])\n",
    "print(bmi_life_data[['Life expectancy']])"
   ]
  },
  {
   "cell_type": "code",
   "execution_count": 42,
   "metadata": {},
   "outputs": [
    {
     "data": {
      "text/plain": [
       "LinearRegression(copy_X=True, fit_intercept=True, n_jobs=None,\n",
       "         normalize=False)"
      ]
     },
     "execution_count": 42,
     "metadata": {},
     "output_type": "execute_result"
    }
   ],
   "source": [
    "# Make and fit the linear regression model\n",
    "bmi_life_model = LinearRegression()\n",
    "bmi_life_model.fit(bmi_life_data[['BMI']], bmi_life_data[['Life expectancy']])\n",
    "# It will fit X vs Y axis . X axis 'BMI' and Y axis 'Life expectancy'"
   ]
  },
  {
   "cell_type": "code",
   "execution_count": 43,
   "metadata": {},
   "outputs": [],
   "source": [
    "# Mak a prediction using the model\n",
    "laos_life_exp = bmi_life_model.predict([[21.07931]])"
   ]
  },
  {
   "cell_type": "code",
   "execution_count": 44,
   "metadata": {},
   "outputs": [
    {
     "name": "stdout",
     "output_type": "stream",
     "text": [
      "Predicted life expectancy: [[60.31564716]]\n"
     ]
    }
   ],
   "source": [
    "print('Predicted life expectancy: {}'.format(laos_life_exp))"
   ]
  }
 ],
 "metadata": {
  "kernelspec": {
   "display_name": "Python 3",
   "language": "python",
   "name": "python3"
  },
  "language_info": {
   "codemirror_mode": {
    "name": "ipython",
    "version": 3
   },
   "file_extension": ".py",
   "mimetype": "text/x-python",
   "name": "python",
   "nbconvert_exporter": "python",
   "pygments_lexer": "ipython3",
   "version": "3.7.1"
  }
 },
 "nbformat": 4,
 "nbformat_minor": 2
}
